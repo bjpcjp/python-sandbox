{
 "cells": [
  {
   "cell_type": "markdown",
   "id": "472c51e5-85fa-4c39-9d99-3af92b28eb09",
   "metadata": {},
   "source": [
    "# 20 Useful Python libraries\n",
    "## __DEBUGGING IN PROGRESS__\n",
    "- [original Medium article](https://towardsdatascience.com/20-python-gems-buried-in-the-installation-waiting-to-be-found-96034cad4d15)\n",
    "- contextlib (external source manager)\n",
    "- functools (functions manager)\n",
    "- itertools (iterations manager)\n",
    "- glob (matching)\n",
    "- pathlib\n",
    "- sqlite3\n",
    "- hashlib\n",
    "- secrets\n",
    "- argparse (CLI)\n",
    "- random\n",
    "- pickle (file I/O)\n",
    "- shutil (shell utilities)\n",
    "- statistics\n",
    "- gc (garbage collection)\n",
    "- pprint\n",
    "- pydoc (not implemented in this notebook)\n",
    "- calendar (not implemented in this notebook)\n",
    "- webbrowser (directly from Jupyter lab!)\n",
    "- logging\n",
    "- concurrent ops"
   ]
  },
  {
   "cell_type": "markdown",
   "id": "62761ae7-3f03-4077-b21a-19e173808333",
   "metadata": {},
   "source": [
    "## https://docs.python.org/3/library/contextlib.html"
   ]
  },
  {
   "cell_type": "code",
   "execution_count": 3,
   "id": "0f10526f-9f44-4134-96e5-7db7ec574a36",
   "metadata": {},
   "outputs": [
    {
     "name": "stdout",
     "output_type": "stream",
     "text": [
      "5.006\n"
     ]
    }
   ],
   "source": [
    "# contextlib\n",
    "# context manager - serves as a timer\n",
    "# wrapping a function under a context manager decorator\n",
    "# converts it to a manager - you can use with \"with\"\n",
    "\n",
    "from contextlib import contextmanager\n",
    "\n",
    "@contextmanager\n",
    "def timer():\n",
    "    start=time.time()\n",
    "    yield\n",
    "    end=time.time()\n",
    "    print(f\"{round(end-start,3)}\")\n",
    "    \n",
    "import time\n",
    "with timer():\n",
    "    for _ in range(10):\n",
    "        time.sleep(0.5)"
   ]
  },
  {
   "cell_type": "markdown",
   "id": "e2a908b1-74c5-44f6-8eb0-c2ebac131101",
   "metadata": {},
   "source": [
    "## https://docs.python.org/3/library/functools.html"
   ]
  },
  {
   "cell_type": "code",
   "execution_count": 6,
   "id": "61a5f316-42c5-42d4-ae7a-010a3425a898",
   "metadata": {},
   "outputs": [
    {
     "ename": "TypeError",
     "evalue": "Expected list, got str",
     "output_type": "error",
     "traceback": [
      "\u001b[0;31m---------------------------------------------------------------------------\u001b[0m",
      "\u001b[0;31mTypeError\u001b[0m                                 Traceback (most recent call last)",
      "Input \u001b[0;32mIn [6]\u001b[0m, in \u001b[0;36m<cell line: 12>\u001b[0;34m()\u001b[0m\n\u001b[1;32m      6\u001b[0m \u001b[38;5;28;01mimport\u001b[39;00m \u001b[38;5;21;01mpandas\u001b[39;00m \u001b[38;5;28;01mas\u001b[39;00m \u001b[38;5;21;01mpd\u001b[39;00m\n\u001b[1;32m      8\u001b[0m partial_read_csv \u001b[38;5;241m=\u001b[39m partial(\n\u001b[1;32m      9\u001b[0m     pd\u001b[38;5;241m.\u001b[39mread_csv,delimiter\u001b[38;5;241m=\u001b[39m\u001b[38;5;124m\"\u001b[39m\u001b[38;5;124m|\u001b[39m\u001b[38;5;124m\"\u001b[39m,index_col\u001b[38;5;241m=\u001b[39m\u001b[38;5;124m\"\u001b[39m\u001b[38;5;124mdate\u001b[39m\u001b[38;5;124m\"\u001b[39m,true_values\u001b[38;5;241m=\u001b[39m\u001b[38;5;124m\"\u001b[39m\u001b[38;5;124mtrue\u001b[39m\u001b[38;5;124m\"\u001b[39m\n\u001b[1;32m     10\u001b[0m )\n\u001b[0;32m---> 12\u001b[0m \u001b[43mpartial_read_csv\u001b[49m\u001b[43m(\u001b[49m\u001b[38;5;124;43m\"\u001b[39;49m\u001b[38;5;124;43mdata/partial_read.csv\u001b[39;49m\u001b[38;5;124;43m\"\u001b[39;49m\u001b[43m)\u001b[49m\n",
      "File \u001b[0;32m~/.local/lib/python3.10/site-packages/pandas/util/_decorators.py:311\u001b[0m, in \u001b[0;36mdeprecate_nonkeyword_arguments.<locals>.decorate.<locals>.wrapper\u001b[0;34m(*args, **kwargs)\u001b[0m\n\u001b[1;32m    305\u001b[0m \u001b[38;5;28;01mif\u001b[39;00m \u001b[38;5;28mlen\u001b[39m(args) \u001b[38;5;241m>\u001b[39m num_allow_args:\n\u001b[1;32m    306\u001b[0m     warnings\u001b[38;5;241m.\u001b[39mwarn(\n\u001b[1;32m    307\u001b[0m         msg\u001b[38;5;241m.\u001b[39mformat(arguments\u001b[38;5;241m=\u001b[39marguments),\n\u001b[1;32m    308\u001b[0m         \u001b[38;5;167;01mFutureWarning\u001b[39;00m,\n\u001b[1;32m    309\u001b[0m         stacklevel\u001b[38;5;241m=\u001b[39mstacklevel,\n\u001b[1;32m    310\u001b[0m     )\n\u001b[0;32m--> 311\u001b[0m \u001b[38;5;28;01mreturn\u001b[39;00m \u001b[43mfunc\u001b[49m\u001b[43m(\u001b[49m\u001b[38;5;241;43m*\u001b[39;49m\u001b[43margs\u001b[49m\u001b[43m,\u001b[49m\u001b[43m \u001b[49m\u001b[38;5;241;43m*\u001b[39;49m\u001b[38;5;241;43m*\u001b[39;49m\u001b[43mkwargs\u001b[49m\u001b[43m)\u001b[49m\n",
      "File \u001b[0;32m~/.local/lib/python3.10/site-packages/pandas/io/parsers/readers.py:680\u001b[0m, in \u001b[0;36mread_csv\u001b[0;34m(filepath_or_buffer, sep, delimiter, header, names, index_col, usecols, squeeze, prefix, mangle_dupe_cols, dtype, engine, converters, true_values, false_values, skipinitialspace, skiprows, skipfooter, nrows, na_values, keep_default_na, na_filter, verbose, skip_blank_lines, parse_dates, infer_datetime_format, keep_date_col, date_parser, dayfirst, cache_dates, iterator, chunksize, compression, thousands, decimal, lineterminator, quotechar, quoting, doublequote, escapechar, comment, encoding, encoding_errors, dialect, error_bad_lines, warn_bad_lines, on_bad_lines, delim_whitespace, low_memory, memory_map, float_precision, storage_options)\u001b[0m\n\u001b[1;32m    665\u001b[0m kwds_defaults \u001b[38;5;241m=\u001b[39m _refine_defaults_read(\n\u001b[1;32m    666\u001b[0m     dialect,\n\u001b[1;32m    667\u001b[0m     delimiter,\n\u001b[0;32m   (...)\u001b[0m\n\u001b[1;32m    676\u001b[0m     defaults\u001b[38;5;241m=\u001b[39m{\u001b[38;5;124m\"\u001b[39m\u001b[38;5;124mdelimiter\u001b[39m\u001b[38;5;124m\"\u001b[39m: \u001b[38;5;124m\"\u001b[39m\u001b[38;5;124m,\u001b[39m\u001b[38;5;124m\"\u001b[39m},\n\u001b[1;32m    677\u001b[0m )\n\u001b[1;32m    678\u001b[0m kwds\u001b[38;5;241m.\u001b[39mupdate(kwds_defaults)\n\u001b[0;32m--> 680\u001b[0m \u001b[38;5;28;01mreturn\u001b[39;00m \u001b[43m_read\u001b[49m\u001b[43m(\u001b[49m\u001b[43mfilepath_or_buffer\u001b[49m\u001b[43m,\u001b[49m\u001b[43m \u001b[49m\u001b[43mkwds\u001b[49m\u001b[43m)\u001b[49m\n",
      "File \u001b[0;32m~/.local/lib/python3.10/site-packages/pandas/io/parsers/readers.py:575\u001b[0m, in \u001b[0;36m_read\u001b[0;34m(filepath_or_buffer, kwds)\u001b[0m\n\u001b[1;32m    572\u001b[0m _validate_names(kwds\u001b[38;5;241m.\u001b[39mget(\u001b[38;5;124m\"\u001b[39m\u001b[38;5;124mnames\u001b[39m\u001b[38;5;124m\"\u001b[39m, \u001b[38;5;28;01mNone\u001b[39;00m))\n\u001b[1;32m    574\u001b[0m \u001b[38;5;66;03m# Create the parser.\u001b[39;00m\n\u001b[0;32m--> 575\u001b[0m parser \u001b[38;5;241m=\u001b[39m \u001b[43mTextFileReader\u001b[49m\u001b[43m(\u001b[49m\u001b[43mfilepath_or_buffer\u001b[49m\u001b[43m,\u001b[49m\u001b[43m \u001b[49m\u001b[38;5;241;43m*\u001b[39;49m\u001b[38;5;241;43m*\u001b[39;49m\u001b[43mkwds\u001b[49m\u001b[43m)\u001b[49m\n\u001b[1;32m    577\u001b[0m \u001b[38;5;28;01mif\u001b[39;00m chunksize \u001b[38;5;129;01mor\u001b[39;00m iterator:\n\u001b[1;32m    578\u001b[0m     \u001b[38;5;28;01mreturn\u001b[39;00m parser\n",
      "File \u001b[0;32m~/.local/lib/python3.10/site-packages/pandas/io/parsers/readers.py:933\u001b[0m, in \u001b[0;36mTextFileReader.__init__\u001b[0;34m(self, f, engine, **kwds)\u001b[0m\n\u001b[1;32m    930\u001b[0m     \u001b[38;5;28mself\u001b[39m\u001b[38;5;241m.\u001b[39moptions[\u001b[38;5;124m\"\u001b[39m\u001b[38;5;124mhas_index_names\u001b[39m\u001b[38;5;124m\"\u001b[39m] \u001b[38;5;241m=\u001b[39m kwds[\u001b[38;5;124m\"\u001b[39m\u001b[38;5;124mhas_index_names\u001b[39m\u001b[38;5;124m\"\u001b[39m]\n\u001b[1;32m    932\u001b[0m \u001b[38;5;28mself\u001b[39m\u001b[38;5;241m.\u001b[39mhandles: IOHandles \u001b[38;5;241m|\u001b[39m \u001b[38;5;28;01mNone\u001b[39;00m \u001b[38;5;241m=\u001b[39m \u001b[38;5;28;01mNone\u001b[39;00m\n\u001b[0;32m--> 933\u001b[0m \u001b[38;5;28mself\u001b[39m\u001b[38;5;241m.\u001b[39m_engine \u001b[38;5;241m=\u001b[39m \u001b[38;5;28;43mself\u001b[39;49m\u001b[38;5;241;43m.\u001b[39;49m\u001b[43m_make_engine\u001b[49m\u001b[43m(\u001b[49m\u001b[43mf\u001b[49m\u001b[43m,\u001b[49m\u001b[43m \u001b[49m\u001b[38;5;28;43mself\u001b[39;49m\u001b[38;5;241;43m.\u001b[39;49m\u001b[43mengine\u001b[49m\u001b[43m)\u001b[49m\n",
      "File \u001b[0;32m~/.local/lib/python3.10/site-packages/pandas/io/parsers/readers.py:1235\u001b[0m, in \u001b[0;36mTextFileReader._make_engine\u001b[0;34m(self, f, engine)\u001b[0m\n\u001b[1;32m   1232\u001b[0m     \u001b[38;5;28;01mraise\u001b[39;00m \u001b[38;5;167;01mValueError\u001b[39;00m(msg)\n\u001b[1;32m   1234\u001b[0m \u001b[38;5;28;01mtry\u001b[39;00m:\n\u001b[0;32m-> 1235\u001b[0m     \u001b[38;5;28;01mreturn\u001b[39;00m \u001b[43mmapping\u001b[49m\u001b[43m[\u001b[49m\u001b[43mengine\u001b[49m\u001b[43m]\u001b[49m\u001b[43m(\u001b[49m\u001b[43mf\u001b[49m\u001b[43m,\u001b[49m\u001b[43m \u001b[49m\u001b[38;5;241;43m*\u001b[39;49m\u001b[38;5;241;43m*\u001b[39;49m\u001b[38;5;28;43mself\u001b[39;49m\u001b[38;5;241;43m.\u001b[39;49m\u001b[43moptions\u001b[49m\u001b[43m)\u001b[49m\n\u001b[1;32m   1236\u001b[0m \u001b[38;5;28;01mexcept\u001b[39;00m \u001b[38;5;167;01mException\u001b[39;00m:\n\u001b[1;32m   1237\u001b[0m     \u001b[38;5;28;01mif\u001b[39;00m \u001b[38;5;28mself\u001b[39m\u001b[38;5;241m.\u001b[39mhandles \u001b[38;5;129;01mis\u001b[39;00m \u001b[38;5;129;01mnot\u001b[39;00m \u001b[38;5;28;01mNone\u001b[39;00m:\n",
      "File \u001b[0;32m~/.local/lib/python3.10/site-packages/pandas/io/parsers/c_parser_wrapper.py:75\u001b[0m, in \u001b[0;36mCParserWrapper.__init__\u001b[0;34m(self, src, **kwds)\u001b[0m\n\u001b[1;32m     72\u001b[0m     kwds\u001b[38;5;241m.\u001b[39mpop(key, \u001b[38;5;28;01mNone\u001b[39;00m)\n\u001b[1;32m     74\u001b[0m kwds[\u001b[38;5;124m\"\u001b[39m\u001b[38;5;124mdtype\u001b[39m\u001b[38;5;124m\"\u001b[39m] \u001b[38;5;241m=\u001b[39m ensure_dtype_objs(kwds\u001b[38;5;241m.\u001b[39mget(\u001b[38;5;124m\"\u001b[39m\u001b[38;5;124mdtype\u001b[39m\u001b[38;5;124m\"\u001b[39m, \u001b[38;5;28;01mNone\u001b[39;00m))\n\u001b[0;32m---> 75\u001b[0m \u001b[38;5;28mself\u001b[39m\u001b[38;5;241m.\u001b[39m_reader \u001b[38;5;241m=\u001b[39m \u001b[43mparsers\u001b[49m\u001b[38;5;241;43m.\u001b[39;49m\u001b[43mTextReader\u001b[49m\u001b[43m(\u001b[49m\u001b[43msrc\u001b[49m\u001b[43m,\u001b[49m\u001b[43m \u001b[49m\u001b[38;5;241;43m*\u001b[39;49m\u001b[38;5;241;43m*\u001b[39;49m\u001b[43mkwds\u001b[49m\u001b[43m)\u001b[49m\n\u001b[1;32m     77\u001b[0m \u001b[38;5;28mself\u001b[39m\u001b[38;5;241m.\u001b[39munnamed_cols \u001b[38;5;241m=\u001b[39m \u001b[38;5;28mself\u001b[39m\u001b[38;5;241m.\u001b[39m_reader\u001b[38;5;241m.\u001b[39munnamed_cols\n\u001b[1;32m     79\u001b[0m \u001b[38;5;66;03m# error: Cannot determine type of 'names'\u001b[39;00m\n",
      "File \u001b[0;32m~/.local/lib/python3.10/site-packages/pandas/_libs/parsers.pyx:470\u001b[0m, in \u001b[0;36mpandas._libs.parsers.TextReader.__cinit__\u001b[0;34m()\u001b[0m\n",
      "\u001b[0;31mTypeError\u001b[0m: Expected list, got str"
     ]
    }
   ],
   "source": [
    "# functools\n",
    "# builds functions from existing ones\n",
    "# one is 'partial' - clones functions with custom values\n",
    "\n",
    "from functools import partial\n",
    "import pandas as pd\n",
    "\n",
    "partial_read_csv = partial(\n",
    "    pd.read_csv,delimiter=\"|\",index_col=\"date\",true_values=\"true\"\n",
    ")\n",
    "\n",
    "partial_read_csv(\"data/partial_read.csv\")"
   ]
  },
  {
   "cell_type": "code",
   "execution_count": 8,
   "id": "730f8087-da97-458a-b3cc-3ab0458fdd88",
   "metadata": {},
   "outputs": [
    {
     "name": "stdout",
     "output_type": "stream",
     "text": [
      "None\n",
      "10.008\n",
      "0.0\n"
     ]
    }
   ],
   "source": [
    "# functools - caching\n",
    "# remembers each output that maps to inputs\n",
    "# so results are instantly available when same args are passed\n",
    "# example: streamlit\n",
    "\n",
    "from functools import cache\n",
    "\n",
    "@cache\n",
    "def sleep(n):\n",
    "    print(time.sleep(n))\n",
    "    \n",
    "with timer():\n",
    "        sleep(10)\n",
    "        \n",
    "with timer():\n",
    "        sleep(10)\n"
   ]
  },
  {
   "cell_type": "markdown",
   "id": "556624e2-ad41-45ac-bd35-cafb7154b49a",
   "metadata": {},
   "source": [
    "## https://docs.python.org/3/library/itertools.html"
   ]
  },
  {
   "cell_type": "code",
   "execution_count": 13,
   "id": "3312aa06-845c-47ac-8873-24d11065cc8a",
   "metadata": {},
   "outputs": [
    {
     "name": "stdout",
     "output_type": "stream",
     "text": [
      "('A', 'D')\n",
      "('A', 'E')\n",
      "('A', 'F')\n",
      "('B', 'D')\n",
      "('B', 'E')\n",
      "('B', 'F')\n",
      "('C', 'D')\n",
      "('C', 'E')\n",
      "('C', 'F')\n",
      "(1, 5)\n",
      "(2, 6)\n",
      "(1, 5)\n",
      "(2, 6)\n",
      "(3, 'blank')\n",
      "(4, 'blank')\n"
     ]
    }
   ],
   "source": [
    "# itertools\n",
    "\n",
    "from itertools import product, zip_longest\n",
    "\n",
    "a=\"ABC\"; b=\"DEF\"\n",
    "for i in product(a,b):\n",
    "    print(i)\n",
    "    \n",
    "a=[1,2,3,4]; b=[5,6]\n",
    "for i in zip(a,b):\n",
    "    print(i)\n",
    "    \n",
    "for i in zip_longest(a,b,fillvalue='blank'):\n",
    "    print(i)"
   ]
  },
  {
   "cell_type": "markdown",
   "id": "f04fce17-6c88-45ef-928b-10da5b5cae7d",
   "metadata": {},
   "source": [
    "## https://docs.python.org/3/library/glob.html"
   ]
  },
  {
   "cell_type": "code",
   "execution_count": 18,
   "id": "f36cdea2-dca2-4ff9-9c04-e041840e26cd",
   "metadata": {},
   "outputs": [],
   "source": [
    "# glob - Unix-style pattern matching\n",
    "# enables working with multi files in parallel\n",
    "\n",
    "import glob\n",
    "\n",
    "def choose_these_files(root=\".\"):\n",
    "    return glob.glob(\".*\")"
   ]
  },
  {
   "cell_type": "markdown",
   "id": "18c15691-29da-4c59-8dec-870aa191a614",
   "metadata": {},
   "source": [
    "## https://docs.python.org/3/library/pathlib.html"
   ]
  },
  {
   "cell_type": "code",
   "execution_count": 27,
   "id": "3a390d52-217f-4723-9415-fa6bc6316f3c",
   "metadata": {},
   "outputs": [
    {
     "name": "stdout",
     "output_type": "stream",
     "text": [
      ".\n",
      "/home/bjpcjp/1TB/tools-tutorials/python\n"
     ]
    }
   ],
   "source": [
    "# pathlib - started with Py 3.4\n",
    "\n",
    "import pathlib\n",
    "p=pathlib.Path(\".\")\n",
    "print(p.parent)\n",
    "\n",
    "c=pathlib.Path.cwd() # current working directory\n",
    "print(c)"
   ]
  },
  {
   "cell_type": "markdown",
   "id": "8e511791-9c56-44b8-8f54-b824fb9c379e",
   "metadata": {},
   "source": [
    "## https://docs.python.org/3/library/sqlite3.html"
   ]
  },
  {
   "cell_type": "code",
   "execution_count": 29,
   "id": "3caf3197-69ad-48f4-be4e-18da38af651e",
   "metadata": {},
   "outputs": [],
   "source": [
    "import sqlite3\n",
    "\n",
    "con=sqlite3.connect(\"data/sample.db\")\n",
    "cursor=con.cursor()\n",
    "\n",
    "cursor.execute(\n",
    "    \"\"\"\n",
    "    CREATE TABLE films\n",
    "    (released text, title text, budget real)\n",
    "    \"\"\"\n",
    ")\n",
    "con.commit(); con.close()"
   ]
  },
  {
   "cell_type": "markdown",
   "id": "a946829e-2368-41d4-88c0-21316b08b2c3",
   "metadata": {},
   "source": [
    "## https://docs.python.org/3/library/hashlib.html"
   ]
  },
  {
   "cell_type": "code",
   "execution_count": 30,
   "id": "4e54fa45-44f5-4001-a58f-44df658026ae",
   "metadata": {},
   "outputs": [
    {
     "name": "stdout",
     "output_type": "stream",
     "text": [
      "c9fd9b4ddd48b4ba9aa6228db6cdb3f0ab71d913dac256c9667dd9064bcda168\n"
     ]
    }
   ],
   "source": [
    "import hashlib\n",
    "\n",
    "enc=hashlib.sha256(b\"Howdy.\")\n",
    "\n",
    "print(enc.hexdigest())"
   ]
  },
  {
   "cell_type": "markdown",
   "id": "1b1acb09-f4f3-4ed3-9ae0-f8744c166920",
   "metadata": {},
   "source": [
    "## https://docs.python.org/3/library/secrets.html"
   ]
  },
  {
   "cell_type": "code",
   "execution_count": 31,
   "id": "6b7913a0-a1e4-45ab-80b6-4c8cb73ddd42",
   "metadata": {},
   "outputs": [
    {
     "name": "stdout",
     "output_type": "stream",
     "text": [
      "c8oP5wRUH9\n",
      "BjsgglbWAAhxM4T0pjPWWlIJdjkfd6XqcOWvNZ4JRMo\n",
      "1730a6e82ad7cda8a370cd642614bf396d793773ff08ce8c8cc703e279406272\n"
     ]
    }
   ],
   "source": [
    "import secrets, string\n",
    "\n",
    "alphabet=string.ascii_letters+string.digits\n",
    "password=\"\".join(secrets.choice(alphabet) for _ in range(10))\n",
    "\n",
    "print(password)\n",
    "print(secrets.token_urlsafe())\n",
    "print(secrets.token_hex())"
   ]
  },
  {
   "cell_type": "markdown",
   "id": "94e66f88-ece7-47d5-860b-7195322fa781",
   "metadata": {},
   "source": [
    "## https://docs.python.org/3/library/argparse.html"
   ]
  },
  {
   "cell_type": "code",
   "execution_count": 33,
   "id": "982bfd66-afe7-4431-ae90-096b7fc3a099",
   "metadata": {},
   "outputs": [
    {
     "name": "stderr",
     "output_type": "stream",
     "text": [
      "usage: simple adder [-h] a b\n",
      "simple adder: error: the following arguments are required: b\n"
     ]
    },
    {
     "ename": "SystemExit",
     "evalue": "2",
     "output_type": "error",
     "traceback": [
      "An exception has occurred, use %tb to see the full traceback.\n",
      "\u001b[0;31mSystemExit\u001b[0m\u001b[0;31m:\u001b[0m 2\n"
     ]
    },
    {
     "name": "stderr",
     "output_type": "stream",
     "text": [
      "/home/bjpcjp/.local/lib/python3.10/site-packages/IPython/core/interactiveshell.py:3405: UserWarning: To exit: use 'exit', 'quit', or Ctrl-D.\n",
      "  warn(\"To exit: use 'exit', 'quit', or Ctrl-D.\", stacklevel=1)\n"
     ]
    }
   ],
   "source": [
    "import argparse\n",
    "\n",
    "parser=argparse.ArgumentParser(\n",
    "    prog=\"simple adder\",\n",
    "    epilog=\"good luck.\",\n",
    ")\n",
    "\n",
    "parser.add_argument('a',help='1st arg')\n",
    "parser.add_argument('b',help='2nd arg')\n",
    "\n",
    "args=parser.parse_args()\n",
    "print(f\"equation is {args.a} * {args.b}\")"
   ]
  },
  {
   "cell_type": "markdown",
   "id": "cb64ec97-206e-420e-a267-ac10e0d39bed",
   "metadata": {},
   "source": [
    "## https://docs.python.org/3/library/random.html"
   ]
  },
  {
   "cell_type": "code",
   "execution_count": 36,
   "id": "2c66741b-2b6a-4c9d-b145-547d55610bfc",
   "metadata": {},
   "outputs": [
    {
     "name": "stdout",
     "output_type": "stream",
     "text": [
      "0.8062474458362765\n",
      "283\n",
      "[8, 2, 7, 3, 4, 5, 0, 1, 9, 6]\n"
     ]
    }
   ],
   "source": [
    "import random\n",
    "\n",
    "normal_dist=random.gauss(0,1)\n",
    "print(normal_dist)\n",
    "\n",
    "print(random.choice(list(range(1000))))\n",
    "\n",
    "unordered=list(range(10)); random.shuffle(unordered)\n",
    "print(unordered)"
   ]
  },
  {
   "cell_type": "markdown",
   "id": "250a904b-8076-48a9-8dcb-ea7fcfcb05fd",
   "metadata": {},
   "source": [
    "## https://docs.python.org/3/library/pickle.html"
   ]
  },
  {
   "cell_type": "code",
   "execution_count": 37,
   "id": "15efe622-9f93-4ba9-80c9-2e32b2446b71",
   "metadata": {},
   "outputs": [
    {
     "name": "stdout",
     "output_type": "stream",
     "text": [
      "   carat      cut color clarity  depth  table  price     x     y     z\n",
      "0   0.23    Ideal     E     SI2   61.5   55.0    326  3.95  3.98  2.43\n",
      "1   0.21  Premium     E     SI1   59.8   61.0    326  3.89  3.84  2.31\n",
      "2   0.23     Good     E     VS1   56.9   65.0    327  4.05  4.07  2.31\n",
      "3   0.29  Premium     I     VS2   62.4   58.0    334  4.20  4.23  2.63\n",
      "4   0.31     Good     J     SI2   63.3   58.0    335  4.34  4.35  2.75\n"
     ]
    }
   ],
   "source": [
    "# pickle = 80X faster than CSV I/O, smaller memory\n",
    "\n",
    "import pickle; import seaborn as sns\n",
    "\n",
    "df=sns.load_dataset(\"diamonds\")\n",
    "\n",
    "with open(\"data/diamonds.pkl\",\"wb\") as file:\n",
    "    pickle.dump(df,file)\n",
    "    \n",
    "with open(\"data/diamonds.pkl\",\"rb\") as file:\n",
    "    df1=pickle.load(file)\n",
    "    \n",
    "print(df1.head())"
   ]
  },
  {
   "cell_type": "markdown",
   "id": "acd781aa-bdc2-4042-b1cb-af039928fa7a",
   "metadata": {},
   "source": [
    "## https://docs.python.org/3/library/shutil.html"
   ]
  },
  {
   "cell_type": "code",
   "execution_count": 38,
   "id": "5dfc51b0-7333-4106-aa77-238385ed74c8",
   "metadata": {},
   "outputs": [
    {
     "name": "stdout",
     "output_type": "stream",
     "text": [
      "['COPY_BUFSIZE', 'Error', 'ExecError', 'ReadError', 'RegistryError', 'SameFileError', 'SpecialFileError', '_ARCHIVE_FORMATS', '_BZ2_SUPPORTED', '_GiveupOnFastCopy', '_HAS_FCOPYFILE', '_LZMA_SUPPORTED', '_UNPACK_FORMATS', '_USE_CP_SENDFILE', '_WINDOWS', '_WIN_DEFAULT_PATHEXT', '_ZLIB_SUPPORTED', '__all__', '__builtins__', '__cached__', '__doc__', '__file__', '__loader__', '__name__', '__package__', '__spec__', '_access_check', '_basename', '_check_unpack_options', '_copyfileobj_readinto', '_copytree', '_copyxattr', '_destinsrc', '_ensure_directory', '_fastcopy_fcopyfile', '_fastcopy_sendfile', '_find_unpack_format', '_get_gid', '_get_uid', '_is_immutable', '_islink', '_make_tarball', '_make_zipfile', '_ntuple_diskusage', '_rmtree_isdir', '_rmtree_islink', '_rmtree_safe_fd', '_rmtree_unsafe', '_samefile', '_stat', '_unpack_tarfile', '_unpack_zipfile', '_use_fd_functions', 'chown', 'collections', 'copy', 'copy2', 'copyfile', 'copyfileobj', 'copymode', 'copystat', 'copytree', 'disk_usage', 'errno', 'fnmatch', 'get_archive_formats', 'get_terminal_size', 'get_unpack_formats', 'ignore_patterns', 'make_archive', 'move', 'nt', 'os', 'posix', 'register_archive_format', 'register_unpack_format', 'rmtree', 'stat', 'sys', 'unpack_archive', 'unregister_archive_format', 'unregister_unpack_format', 'which']\n"
     ]
    }
   ],
   "source": [
    "# shutil (shell utilities)- advanced file ops\n",
    "\n",
    "import shutil\n",
    "print(dir(shutil))"
   ]
  },
  {
   "cell_type": "code",
   "execution_count": 40,
   "id": "89e2cb1e-35cb-4690-8984-8eba4ce5a03b",
   "metadata": {},
   "outputs": [
    {
     "name": "stdout",
     "output_type": "stream",
     "text": [
      "/usr/bin/python3\n"
     ]
    }
   ],
   "source": [
    "print(shutil.which(\"python3\"))"
   ]
  },
  {
   "cell_type": "code",
   "execution_count": 41,
   "id": "edaa1469-e899-4966-b21d-53950f0aeaeb",
   "metadata": {},
   "outputs": [
    {
     "data": {
      "text/plain": [
       "'data/diamonds-copy.pkl'"
      ]
     },
     "execution_count": 41,
     "metadata": {},
     "output_type": "execute_result"
    }
   ],
   "source": [
    "shutil.copy(\"data/diamonds.pkl\",\"data/diamonds-copy.pkl\")"
   ]
  },
  {
   "cell_type": "markdown",
   "id": "aefffc1c-9a6a-46e2-8f7e-e1afcf2f15a0",
   "metadata": {},
   "source": [
    "## https://docs.python.org/3/library/statistics.html"
   ]
  },
  {
   "cell_type": "code",
   "execution_count": 42,
   "id": "8caf2410-cd57-4897-9eab-f8704399603b",
   "metadata": {},
   "outputs": [
    {
     "name": "stdout",
     "output_type": "stream",
     "text": [
      "518.134\n",
      "284.9063535028067\n",
      "[108.0, 213.4, 316.0, 426.4, 501.5, 604.2, 701.0, 802.0, 902.7]\n"
     ]
    }
   ],
   "source": [
    "import statistics\n",
    "\n",
    "array = [random.randint(1, 1000) for _ in range(1000)]\n",
    "array2 = [random.randint(1, 1000) for _ in range(1000)]\n",
    "\n",
    "print(statistics.mean(array))\n",
    "print(statistics.stdev(array2))\n",
    "print(statistics.quantiles(array2, n=10))"
   ]
  },
  {
   "cell_type": "markdown",
   "id": "abc072d3-4555-45f6-9872-a34aa005122b",
   "metadata": {},
   "source": [
    "## https://docs.python.org/3/library/gc.html"
   ]
  },
  {
   "cell_type": "code",
   "execution_count": 43,
   "id": "b857f0e6-db59-4806-a452-bd44cd6e66ad",
   "metadata": {},
   "outputs": [
    {
     "data": {
      "text/plain": [
       "13"
      ]
     },
     "execution_count": 43,
     "metadata": {},
     "output_type": "execute_result"
    }
   ],
   "source": [
    "# collect returns number of unreachable/cleaned objects in namespace\n",
    "import gc\n",
    "\n",
    "gc.enable(); gc.collect()"
   ]
  },
  {
   "cell_type": "markdown",
   "id": "e5a42b71-e92e-45fc-b32d-c54297645ac9",
   "metadata": {},
   "source": [
    "## https://docs.python.org/3/library/pprint.html"
   ]
  },
  {
   "cell_type": "code",
   "execution_count": 44,
   "id": "9b4764d5-9cd3-4a53-81a4-e00b631ccb9b",
   "metadata": {},
   "outputs": [
    {
     "name": "stdout",
     "output_type": "stream",
     "text": [
      "[['a', 'b', 'c', 's'], ['s', 'd', 'f', 'f'], [1, 45, 4, 6, 7, 8], [0, 1, 2, 3, 4, 5, 6, 7, 8, 9, 10, 11]]\n",
      "[['a', 'b', 'c', 's'],\n",
      " ['s', 'd', 'f', 'f'],\n",
      " [1, 45, 4, 6, 7, 8],\n",
      " [0, 1, 2, 3, 4, 5, 6, 7, 8, 9, 10, 11]]\n"
     ]
    }
   ],
   "source": [
    "nested = [list(\"abcs\"), \n",
    "          list(\"sdff\"), \n",
    "          [1, 45, 4, 6, 7, 8], \n",
    "          list(range(12))]\n",
    "\n",
    "print(nested)\n",
    "from pprint import pprint\n",
    "pprint(nested)"
   ]
  },
  {
   "cell_type": "markdown",
   "id": "535b5d19-9166-46ad-8525-87c51803fade",
   "metadata": {},
   "source": [
    "## https://docs.python.org/3/library/pydoc.html"
   ]
  },
  {
   "cell_type": "code",
   "execution_count": null,
   "id": "7ad735fa-b024-4f4d-aeee-3c1309ed4eaf",
   "metadata": {},
   "outputs": [],
   "source": []
  },
  {
   "cell_type": "markdown",
   "id": "a9ab4f06-5d0d-4c7b-94b9-31484c5a5c93",
   "metadata": {},
   "source": [
    "## https://docs.python.org/3/library/webbrowser.html"
   ]
  },
  {
   "cell_type": "code",
   "execution_count": 45,
   "id": "69006860-41a0-452c-a5da-e70550d945bf",
   "metadata": {},
   "outputs": [
    {
     "data": {
      "text/plain": [
       "True"
      ]
     },
     "execution_count": 45,
     "metadata": {},
     "output_type": "execute_result"
    }
   ],
   "source": [
    "import webbrowser\n",
    "webbrowser.open(\"bjpcjp.github.io\")"
   ]
  },
  {
   "cell_type": "markdown",
   "id": "92442d99-ab76-41d2-82f1-c23fd97d70f6",
   "metadata": {},
   "source": [
    "## https://docs.python.org/3/library/logging.html"
   ]
  },
  {
   "cell_type": "code",
   "execution_count": 46,
   "id": "8ab16d03-0527-4477-9e0b-6677f7386d9e",
   "metadata": {},
   "outputs": [
    {
     "name": "stderr",
     "output_type": "stream",
     "text": [
      "15-Sep-22 19:53:47 - Finished execution\n",
      "15-Sep-22 19:53:47 - Critical error!\n"
     ]
    },
    {
     "name": "stdout",
     "output_type": "stream",
     "text": [
      "None\n",
      "None\n"
     ]
    }
   ],
   "source": [
    "import logging\n",
    "\n",
    "logging.basicConfig(\n",
    "    format =\"%(asctime)s - %(message)s\", \n",
    "    datefmt=\"%d-%b-%y %H:%M:%S\", \n",
    "    level  =logging.INFO\n",
    ")\n",
    "\n",
    "print(logging.info(\"Finished execution\"))\n",
    "print(logging.critical(\"Critical error!\"))"
   ]
  },
  {
   "cell_type": "markdown",
   "id": "66bf978a-8fb0-435e-ba03-249993074df8",
   "metadata": {},
   "source": [
    "## https://docs.python.org/3/library/concurrent.futures.html"
   ]
  },
  {
   "cell_type": "code",
   "execution_count": 47,
   "id": "b8c8a63c-b581-4571-b437-a5ae46338bfb",
   "metadata": {},
   "outputs": [
    {
     "name": "stdout",
     "output_type": "stream",
     "text": [
      "34.262\n"
     ]
    }
   ],
   "source": [
    "# concurrency (multithreading)\n",
    "# send 100 GETs to a URL, wait for response\n",
    "# inefficient way:\n",
    "\n",
    "import requests\n",
    "\n",
    "URL = \"https://www.google.com/\"\n",
    "\n",
    "def get(url: str):\n",
    "    response = requests.get(url)\n",
    "    return response.content\n",
    "\n",
    "with timer():\n",
    "    for index, _ in enumerate(range(101), 1):\n",
    "        get(URL)"
   ]
  },
  {
   "cell_type": "code",
   "execution_count": 48,
   "id": "6f907f77-f7da-4189-906f-a9f2fa5fd236",
   "metadata": {},
   "outputs": [
    {
     "name": "stdout",
     "output_type": "stream",
     "text": [
      "14.062\n"
     ]
    }
   ],
   "source": [
    "# smarter approach - use all available CPU cores\n",
    "\n",
    "import concurrent.futures as cf\n",
    "\n",
    "with timer():\n",
    "    with cf.ThreadPoolExecutor() as tpe:\n",
    "        for index,_ in enumerate(range(100),1):\n",
    "            tpe.submit(get,URL)"
   ]
  },
  {
   "cell_type": "code",
   "execution_count": null,
   "id": "f7b2845a-3d8b-4481-bd56-17da1afb7770",
   "metadata": {},
   "outputs": [],
   "source": []
  }
 ],
 "metadata": {
  "kernelspec": {
   "display_name": "Python 3 (ipykernel)",
   "language": "python",
   "name": "python3"
  },
  "language_info": {
   "codemirror_mode": {
    "name": "ipython",
    "version": 3
   },
   "file_extension": ".py",
   "mimetype": "text/x-python",
   "name": "python",
   "nbconvert_exporter": "python",
   "pygments_lexer": "ipython3",
   "version": "3.10.4"
  }
 },
 "nbformat": 4,
 "nbformat_minor": 5
}
